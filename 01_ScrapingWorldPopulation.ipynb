{
 "cells": [
  {
   "cell_type": "markdown",
   "id": "ba144dbe-8f3d-4ca2-a352-ecee1e06de09",
   "metadata": {},
   "source": [
    "## Scraping a table"
   ]
  },
  {
   "cell_type": "code",
   "execution_count": 1,
   "id": "c7cdc525-cdc9-40b7-b63b-579765b7f875",
   "metadata": {},
   "outputs": [],
   "source": [
    "import requests\n",
    "import pandas as pd\n",
    "\n",
    "from bs4 import BeautifulSoup"
   ]
  },
  {
   "cell_type": "code",
   "execution_count": 2,
   "id": "34491f03-4c56-49a7-8ff1-a8bfd7fe6b96",
   "metadata": {},
   "outputs": [],
   "source": [
    "url = \"https://www.worldometers.info/world-population/\""
   ]
  },
  {
   "cell_type": "code",
   "execution_count": 3,
   "id": "19fca1ed-47cd-424c-a72a-af0bc238ef15",
   "metadata": {},
   "outputs": [
    {
     "data": {
      "text/plain": [
       "<Response [200]>"
      ]
     },
     "execution_count": 3,
     "metadata": {},
     "output_type": "execute_result"
    }
   ],
   "source": [
    "page = requests.get(url)\n",
    "page"
   ]
  },
  {
   "cell_type": "code",
   "execution_count": 4,
   "id": "1b1ec7a4-431b-479e-b35a-53933e24946a",
   "metadata": {},
   "outputs": [],
   "source": [
    "soup = BeautifulSoup(page.text, 'lxml')"
   ]
  },
  {
   "cell_type": "code",
   "execution_count": 5,
   "id": "f0e33390-6c4f-43c2-9856-8326680f1c7b",
   "metadata": {},
   "outputs": [],
   "source": [
    "#Subsets the HTML to only get the HTML of our table needed\n",
    "table = soup.find('table', class_ = 'table table-striped table-bordered table-hover table-condensed table-list')"
   ]
  },
  {
   "cell_type": "code",
   "execution_count": 6,
   "id": "3456cd93-9416-4646-8a26-fe892f3c8096",
   "metadata": {},
   "outputs": [
    {
     "data": {
      "text/plain": [
       "[<th>Year<br/> (July 1) </th>,\n",
       " <th>Population</th>,\n",
       " <th>Yearly % <br/> Change</th>,\n",
       " <th>Yearly<br/> Change</th>,\n",
       " <th>Median <br/>Age</th>,\n",
       " <th>Fertility <br/>Rate</th>,\n",
       " <th>Density <br/>(P/Km²)</th>,\n",
       " <th>Urban<br/> Pop %</th>,\n",
       " <th>Urban Population</th>]"
      ]
     },
     "execution_count": 6,
     "metadata": {},
     "output_type": "execute_result"
    }
   ],
   "source": [
    "table.find_all('th')"
   ]
  },
  {
   "cell_type": "code",
   "execution_count": 7,
   "id": "ff682ac7-db6e-4cb7-af60-513eefa95a6d",
   "metadata": {},
   "outputs": [],
   "source": [
    "#Gets all the column headers of  table\n",
    "headers = []\n",
    "for i in table.find_all('th'):\n",
    "    title = i.text.strip()\n",
    "    headers.append(title)\n"
   ]
  },
  {
   "cell_type": "code",
   "execution_count": 8,
   "id": "549ddf32-46f8-4e2a-9541-bd30d1236e36",
   "metadata": {},
   "outputs": [
    {
     "data": {
      "text/plain": [
       "['Year (July 1)',\n",
       " 'Population',\n",
       " 'Yearly %  Change',\n",
       " 'Yearly Change',\n",
       " 'Median Age',\n",
       " 'Fertility Rate',\n",
       " 'Density (P/Km²)',\n",
       " 'Urban Pop %',\n",
       " 'Urban Population']"
      ]
     },
     "execution_count": 8,
     "metadata": {},
     "output_type": "execute_result"
    }
   ],
   "source": [
    "headers"
   ]
  },
  {
   "cell_type": "code",
   "execution_count": 9,
   "id": "85f35fca-1f17-4671-9c6a-4b95a4046468",
   "metadata": {},
   "outputs": [
    {
     "data": {
      "text/html": [
       "<div>\n",
       "<style scoped>\n",
       "    .dataframe tbody tr th:only-of-type {\n",
       "        vertical-align: middle;\n",
       "    }\n",
       "\n",
       "    .dataframe tbody tr th {\n",
       "        vertical-align: top;\n",
       "    }\n",
       "\n",
       "    .dataframe thead th {\n",
       "        text-align: right;\n",
       "    }\n",
       "</style>\n",
       "<table border=\"1\" class=\"dataframe\">\n",
       "  <thead>\n",
       "    <tr style=\"text-align: right;\">\n",
       "      <th></th>\n",
       "      <th>Year (July 1)</th>\n",
       "      <th>Population</th>\n",
       "      <th>Yearly %  Change</th>\n",
       "      <th>Yearly Change</th>\n",
       "      <th>Median Age</th>\n",
       "      <th>Fertility Rate</th>\n",
       "      <th>Density (P/Km²)</th>\n",
       "      <th>Urban Pop %</th>\n",
       "      <th>Urban Population</th>\n",
       "    </tr>\n",
       "  </thead>\n",
       "  <tbody>\n",
       "  </tbody>\n",
       "</table>\n",
       "</div>"
      ],
      "text/plain": [
       "Empty DataFrame\n",
       "Columns: [Year (July 1), Population, Yearly %  Change, Yearly Change, Median Age, Fertility Rate, Density (P/Km²), Urban Pop %, Urban Population]\n",
       "Index: []"
      ]
     },
     "execution_count": 9,
     "metadata": {},
     "output_type": "execute_result"
    }
   ],
   "source": [
    "#Creates a dataframe using the column headers from our table\n",
    "df = pd.DataFrame(columns = headers)\n",
    "df"
   ]
  },
  {
   "cell_type": "code",
   "execution_count": 10,
   "id": "eb23b389-923a-4193-b461-140ddfd86333",
   "metadata": {},
   "outputs": [
    {
     "data": {
      "text/plain": [
       "[<tr> <td>2020</td> <td><strong>7,794,798,739</strong></td> <td>1.05 %</td> <td>81,330,639</td> <td>30.9</td> <td>2.47</td> <td>52</td> <td>56.2 %</td> <td>4,378,993,944</td> </tr>,\n",
       " <tr> <td>2019</td> <td><strong>7,713,468,100</strong></td> <td>1.08 %</td> <td>82,377,060</td> <td>29.8</td> <td>2.51</td> <td>52</td> <td>55.7 %</td> <td>4,299,438,618</td> </tr>,\n",
       " <tr> <td>2018</td> <td><strong>7,631,091,040</strong></td> <td>1.10 %</td> <td>83,232,115</td> <td>29.8</td> <td>2.51</td> <td>51</td> <td>55.3 %</td> <td>4,219,817,318</td></tr>,\n",
       " <tr> <td>2017</td> <td><strong>7,547,858,925</strong></td> <td>1.12 %</td> <td>83,836,876</td> <td>29.8</td> <td>2.51</td> <td>51</td> <td>54.9 %</td> <td>4,140,188,594</td> </tr>,\n",
       " <tr> <td>2016</td> <td><strong>7,464,022,049</strong></td> <td>1.14 %</td> <td>84,224,910</td> <td>29.8</td> <td>2.51</td> <td>50</td> <td>54.4 %</td> <td>4,060,652,683</td> </tr>,\n",
       " <tr> <td>2015</td> <td><strong>7,379,797,139</strong></td> <td>1.19 %</td> <td>84,594,707</td> <td>30</td> <td>2.52</td> <td>50</td> <td>54.0 %</td> <td>3,981,497,663</td> </tr>,\n",
       " <tr> <td>2010</td> <td><strong>6,956,823,603</strong></td> <td>1.24 %</td> <td>82,983,315</td> <td>28</td> <td>2.58</td> <td>47</td> <td>51.7 %</td> <td>3,594,868,146</td> </tr>,\n",
       " <tr> <td>2005</td> <td><strong>6,541,907,027</strong></td> <td>1.26 %</td> <td>79,682,641</td> <td>27</td> <td>2.65</td> <td>44</td> <td>49.2 %</td> <td>3,215,905,863</td> </tr>,\n",
       " <tr> <td>2000</td> <td><strong>6,143,493,823</strong></td> <td>1.35 %</td> <td>79,856,169</td> <td>26</td> <td>2.78</td> <td>41</td> <td>46.7 %</td> <td>2,868,307,513</td> </tr>,\n",
       " <tr> <td>1995</td> <td><strong>5,744,212,979</strong></td> <td>1.52 %</td> <td>83,396,384</td> <td>25</td> <td>3.01</td> <td>39</td> <td>44.8 %</td> <td>2,575,505,235</td> </tr>,\n",
       " <tr> <td>1990</td> <td><strong>5,327,231,061</strong></td> <td>1.81 %</td> <td>91,261,864</td> <td>24</td> <td>3.44</td> <td>36</td> <td>43.0 %</td> <td>2,290,228,096</td> </tr>,\n",
       " <tr> <td>1985</td> <td><strong>4,870,921,740</strong></td> <td>1.79 %</td> <td>82,583,645</td> <td>23</td><td>3.59</td> <td>33</td> <td>41.2 %</td> <td>2,007,939,063</td> </tr>,\n",
       " <tr> <td>1980</td> <td><strong>4,458,003,514</strong></td> <td>1.79 %</td> <td>75,704,582</td> <td>23</td> <td>3.86</td> <td>30</td> <td>39.3 %</td> <td>1,754,201,029</td> </tr>,\n",
       " <tr> <td>1975</td> <td><strong>4,079,480,606</strong></td> <td>1.97 %</td> <td>75,808,712</td> <td>22</td> <td>4.47</td> <td>27</td> <td>37.7 %</td> <td>1,538,624,994</td> </tr>,\n",
       " <tr> <td>1970</td> <td><strong>3,700,437,046</strong></td> <td>2.07 %</td> <td>72,170,690</td> <td>22</td><td>4.93</td> <td>25</td> <td>36.6 %</td> <td>1,354,215,496</td> </tr>,\n",
       " <tr> <td>1965</td> <td><strong>3,339,583,597</strong></td> <td>1.93 %</td> <td>60,926,770</td> <td>22</td> <td>5.02</td> <td>22</td> <td>N.A.</td> <td>N.A.</td> </tr>,\n",
       " <tr> <td>1960</td> <td><strong>3,034,949,748</strong></td> <td>1.82 %</td> <td>52,385,962</td> <td>23</td> <td>4.90</td> <td>20</td> <td>33.7 %</td> <td>1,023,845,517</td> </tr>,\n",
       " <tr> <td>1955</td> <td><strong>2,773,019,936</strong></td> <td>1.80 %</td> <td>47,317,757</td> <td>23</td> <td>4.97</td> <td>19</td> <td>N.A.</td> <td>N.A.</td></tr>]"
      ]
     },
     "execution_count": 10,
     "metadata": {},
     "output_type": "execute_result"
    }
   ],
   "source": [
    "table.find_all('tr')[1:]"
   ]
  },
  {
   "cell_type": "code",
   "execution_count": 11,
   "id": "cdb39dfa-9b3e-41ff-90ab-15a456c17a29",
   "metadata": {},
   "outputs": [
    {
     "data": {
      "text/plain": [
       "[<td>2020</td>,\n",
       " <td><strong>7,794,798,739</strong></td>,\n",
       " <td>1.05 %</td>,\n",
       " <td>81,330,639</td>,\n",
       " <td>30.9</td>,\n",
       " <td>2.47</td>,\n",
       " <td>52</td>,\n",
       " <td>56.2 %</td>,\n",
       " <td>4,378,993,944</td>]"
      ]
     },
     "execution_count": 11,
     "metadata": {},
     "output_type": "execute_result"
    }
   ],
   "source": [
    "for i in table.find_all('tr')[1:]:\n",
    "    row_data = i.find_all('td')\n",
    "    break\n",
    "\n",
    "row_data"
   ]
  },
  {
   "cell_type": "code",
   "execution_count": 12,
   "id": "c131cfd3-0848-4ced-bf11-67716a75b997",
   "metadata": {},
   "outputs": [],
   "source": [
    "for i in table.find_all('tr')[1:]:\n",
    "    row_data = i.find_all('td')\n",
    "    row = [tr.text for tr in row_data]\n",
    "    length = len(df)\n",
    "    df.loc[length] = row"
   ]
  },
  {
   "cell_type": "code",
   "execution_count": 13,
   "id": "5062e445-437d-4a60-838f-a0c3c2088377",
   "metadata": {},
   "outputs": [
    {
     "data": {
      "text/plain": [
       "['1955',\n",
       " '2,773,019,936',\n",
       " '1.80 %',\n",
       " '47,317,757',\n",
       " '23',\n",
       " '4.97',\n",
       " '19',\n",
       " 'N.A.',\n",
       " 'N.A.']"
      ]
     },
     "execution_count": 13,
     "metadata": {},
     "output_type": "execute_result"
    }
   ],
   "source": [
    "row"
   ]
  },
  {
   "cell_type": "code",
   "execution_count": 15,
   "id": "06b6b39e-b5a4-4c47-8e1f-50ae94e8b00c",
   "metadata": {},
   "outputs": [
    {
     "data": {
      "text/html": [
       "<div>\n",
       "<style scoped>\n",
       "    .dataframe tbody tr th:only-of-type {\n",
       "        vertical-align: middle;\n",
       "    }\n",
       "\n",
       "    .dataframe tbody tr th {\n",
       "        vertical-align: top;\n",
       "    }\n",
       "\n",
       "    .dataframe thead th {\n",
       "        text-align: right;\n",
       "    }\n",
       "</style>\n",
       "<table border=\"1\" class=\"dataframe\">\n",
       "  <thead>\n",
       "    <tr style=\"text-align: right;\">\n",
       "      <th></th>\n",
       "      <th>Year (July 1)</th>\n",
       "      <th>Population</th>\n",
       "      <th>Yearly %  Change</th>\n",
       "      <th>Yearly Change</th>\n",
       "      <th>Median Age</th>\n",
       "      <th>Fertility Rate</th>\n",
       "      <th>Density (P/Km²)</th>\n",
       "      <th>Urban Pop %</th>\n",
       "      <th>Urban Population</th>\n",
       "    </tr>\n",
       "  </thead>\n",
       "  <tbody>\n",
       "    <tr>\n",
       "      <th>0</th>\n",
       "      <td>2020</td>\n",
       "      <td>7,794,798,739</td>\n",
       "      <td>1.05 %</td>\n",
       "      <td>81,330,639</td>\n",
       "      <td>30.9</td>\n",
       "      <td>2.47</td>\n",
       "      <td>52</td>\n",
       "      <td>56.2 %</td>\n",
       "      <td>4,378,993,944</td>\n",
       "    </tr>\n",
       "    <tr>\n",
       "      <th>1</th>\n",
       "      <td>2019</td>\n",
       "      <td>7,713,468,100</td>\n",
       "      <td>1.08 %</td>\n",
       "      <td>82,377,060</td>\n",
       "      <td>29.8</td>\n",
       "      <td>2.51</td>\n",
       "      <td>52</td>\n",
       "      <td>55.7 %</td>\n",
       "      <td>4,299,438,618</td>\n",
       "    </tr>\n",
       "    <tr>\n",
       "      <th>2</th>\n",
       "      <td>2018</td>\n",
       "      <td>7,631,091,040</td>\n",
       "      <td>1.10 %</td>\n",
       "      <td>83,232,115</td>\n",
       "      <td>29.8</td>\n",
       "      <td>2.51</td>\n",
       "      <td>51</td>\n",
       "      <td>55.3 %</td>\n",
       "      <td>4,219,817,318</td>\n",
       "    </tr>\n",
       "    <tr>\n",
       "      <th>3</th>\n",
       "      <td>2017</td>\n",
       "      <td>7,547,858,925</td>\n",
       "      <td>1.12 %</td>\n",
       "      <td>83,836,876</td>\n",
       "      <td>29.8</td>\n",
       "      <td>2.51</td>\n",
       "      <td>51</td>\n",
       "      <td>54.9 %</td>\n",
       "      <td>4,140,188,594</td>\n",
       "    </tr>\n",
       "    <tr>\n",
       "      <th>4</th>\n",
       "      <td>2016</td>\n",
       "      <td>7,464,022,049</td>\n",
       "      <td>1.14 %</td>\n",
       "      <td>84,224,910</td>\n",
       "      <td>29.8</td>\n",
       "      <td>2.51</td>\n",
       "      <td>50</td>\n",
       "      <td>54.4 %</td>\n",
       "      <td>4,060,652,683</td>\n",
       "    </tr>\n",
       "  </tbody>\n",
       "</table>\n",
       "</div>"
      ],
      "text/plain": [
       "  Year (July 1)     Population Yearly %  Change Yearly Change Median Age  \\\n",
       "0          2020  7,794,798,739           1.05 %    81,330,639       30.9   \n",
       "1          2019  7,713,468,100           1.08 %    82,377,060       29.8   \n",
       "2          2018  7,631,091,040           1.10 %    83,232,115       29.8   \n",
       "3          2017  7,547,858,925           1.12 %    83,836,876       29.8   \n",
       "4          2016  7,464,022,049           1.14 %    84,224,910       29.8   \n",
       "\n",
       "  Fertility Rate Density (P/Km²) Urban Pop % Urban Population  \n",
       "0           2.47              52      56.2 %    4,378,993,944  \n",
       "1           2.51              52      55.7 %    4,299,438,618  \n",
       "2           2.51              51      55.3 %    4,219,817,318  \n",
       "3           2.51              51      54.9 %    4,140,188,594  \n",
       "4           2.51              50      54.4 %    4,060,652,683  "
      ]
     },
     "execution_count": 15,
     "metadata": {},
     "output_type": "execute_result"
    }
   ],
   "source": [
    "df.head()"
   ]
  },
  {
   "cell_type": "code",
   "execution_count": 16,
   "id": "e3e1d0f1-aca5-4d2d-8e1c-eeb0180c4811",
   "metadata": {},
   "outputs": [],
   "source": [
    "#exports the data as a csv\n",
    "df.to_csv('file_name.csv', index=False)\n"
   ]
  }
 ],
 "metadata": {
  "kernelspec": {
   "display_name": "Python 3 (ipykernel)",
   "language": "python",
   "name": "python3"
  },
  "language_info": {
   "codemirror_mode": {
    "name": "ipython",
    "version": 3
   },
   "file_extension": ".py",
   "mimetype": "text/x-python",
   "name": "python",
   "nbconvert_exporter": "python",
   "pygments_lexer": "ipython3",
   "version": "3.9.12"
  }
 },
 "nbformat": 4,
 "nbformat_minor": 5
}
