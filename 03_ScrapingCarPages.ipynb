{
 "cells": [
  {
   "cell_type": "markdown",
   "id": "e2390bb0-8c37-4dd0-8c52-08a861e30ca4",
   "metadata": {},
   "source": [
    "## Scraping multiple pages in Carpages"
   ]
  },
  {
   "cell_type": "code",
   "execution_count": 1,
   "id": "e6fd312f-b54f-4bc4-8a36-e68db6e0e20d",
   "metadata": {},
   "outputs": [],
   "source": [
    "import time\n",
    "import requests\n",
    "import pandas as pd\n",
    "\n",
    "from bs4 import BeautifulSoup"
   ]
  },
  {
   "cell_type": "code",
   "execution_count": 2,
   "id": "ee7b4939-6048-41c2-8cd2-431cb63399ed",
   "metadata": {},
   "outputs": [],
   "source": [
    "url = 'https://www.carpages.ca/used-cars/search/?num_results=50&fueltype_id%5b0%5d=3&fueltype_id%5b1%5d=7&p=3'"
   ]
  },
  {
   "cell_type": "code",
   "execution_count": 3,
   "id": "fcc4c654-4e83-46db-8f07-9d10f2326b65",
   "metadata": {},
   "outputs": [
    {
     "data": {
      "text/plain": [
       "<Response [200]>"
      ]
     },
     "execution_count": 3,
     "metadata": {},
     "output_type": "execute_result"
    }
   ],
   "source": [
    "page =requests.get (url, headers = {'User-agent': 'your bot 0.1'})\n",
    "page"
   ]
  },
  {
   "cell_type": "code",
   "execution_count": 4,
   "id": "573f24d2-a785-4ee7-81f7-58b8acd43654",
   "metadata": {},
   "outputs": [],
   "source": [
    "soup = BeautifulSoup(page.text, 'lxml')"
   ]
  },
  {
   "cell_type": "code",
   "execution_count": 5,
   "id": "9d08be7c-a0c8-48b3-a7df-a2ce569536ba",
   "metadata": {},
   "outputs": [
    {
     "data": {
      "text/html": [
       "<div>\n",
       "<style scoped>\n",
       "    .dataframe tbody tr th:only-of-type {\n",
       "        vertical-align: middle;\n",
       "    }\n",
       "\n",
       "    .dataframe tbody tr th {\n",
       "        vertical-align: top;\n",
       "    }\n",
       "\n",
       "    .dataframe thead th {\n",
       "        text-align: right;\n",
       "    }\n",
       "</style>\n",
       "<table border=\"1\" class=\"dataframe\">\n",
       "  <thead>\n",
       "    <tr style=\"text-align: right;\">\n",
       "      <th></th>\n",
       "      <th>Link</th>\n",
       "      <th>Name</th>\n",
       "      <th>Price</th>\n",
       "      <th>Color</th>\n",
       "    </tr>\n",
       "  </thead>\n",
       "  <tbody>\n",
       "    <tr>\n",
       "      <th>0</th>\n",
       "      <td></td>\n",
       "      <td></td>\n",
       "      <td></td>\n",
       "      <td></td>\n",
       "    </tr>\n",
       "  </tbody>\n",
       "</table>\n",
       "</div>"
      ],
      "text/plain": [
       "  Link Name Price Color\n",
       "0                      "
      ]
     },
     "execution_count": 5,
     "metadata": {},
     "output_type": "execute_result"
    }
   ],
   "source": [
    "#Creating our dataframe\n",
    "df = pd.DataFrame({'Link':[''], 'Name':[''], 'Price':[''], 'Color':['']})\n",
    "df"
   ]
  },
  {
   "cell_type": "code",
   "execution_count": 6,
   "id": "0b77db7c-bd7a-4fb3-b2b8-49cd7856025a",
   "metadata": {},
   "outputs": [
    {
     "name": "stdout",
     "output_type": "stream",
     "text": [
      "CPU times: total: 62.5 ms\n",
      "Wall time: 50.9 ms\n"
     ]
    }
   ],
   "source": [
    "%%time\n",
    "\n",
    "counter = 0\n",
    "#This loop goes through the first 10 pages and grabs all the details of each posting\n",
    "while counter < 5:\n",
    "    \n",
    "    #gets the HTML of all the postings on the page\n",
    "    postings = soup.find_all('div', class_ = 'media soft push-none rule')\n",
    "\n",
    "    #grabs all the details for each posting and adds it as a row to the dataframe\n",
    "    for post in postings:\n",
    "        link = post.find('a', class_ = 'media__img media__img--thumb').get('href')\n",
    "        link_full = 'https://www.carpages.ca' + link\n",
    "        name = post.find('h4', class_ = 'hN').text.strip()\n",
    "        price = post.find('strong', class_ = 'delta').text.strip()\n",
    "        color = post.find_all('div', class_ = 'grey l-column l-column--small-6 l-column--medium-4')[1].text.strip()\n",
    "        df = pd.concat([df, pd.DataFrame.from_records([{'Link':link_full, 'Name':name,'Price':price, 'Color':color}])], ignore_index=True)\n",
    "    \n",
    "    try:\n",
    "        #grabs the url of the next page\n",
    "        next_page = soup.find('a', class_ = 'nextprev').get('href')\n",
    "        \n",
    "        #Imports the next pages HTML into python        \n",
    "        page = 'https://www.carpages.ca' + next_page\n",
    "        soup = BeautifulSoup(page.text, 'lxml')\n",
    "        counter += 1\n",
    "        time.sleep(20)\n",
    "    except AttributeError:\n",
    "        break\n",
    "    \n",
    "\n"
   ]
  },
  {
   "cell_type": "code",
   "execution_count": 7,
   "id": "1ab4f6d6-7f9c-45f6-a263-63827af7df4a",
   "metadata": {},
   "outputs": [
    {
     "data": {
      "text/html": [
       "<div>\n",
       "<style scoped>\n",
       "    .dataframe tbody tr th:only-of-type {\n",
       "        vertical-align: middle;\n",
       "    }\n",
       "\n",
       "    .dataframe tbody tr th {\n",
       "        vertical-align: top;\n",
       "    }\n",
       "\n",
       "    .dataframe thead th {\n",
       "        text-align: right;\n",
       "    }\n",
       "</style>\n",
       "<table border=\"1\" class=\"dataframe\">\n",
       "  <thead>\n",
       "    <tr style=\"text-align: right;\">\n",
       "      <th></th>\n",
       "      <th>Link</th>\n",
       "      <th>Name</th>\n",
       "      <th>Price</th>\n",
       "      <th>Color</th>\n",
       "    </tr>\n",
       "  </thead>\n",
       "  <tbody>\n",
       "    <tr>\n",
       "      <th>0</th>\n",
       "      <td></td>\n",
       "      <td></td>\n",
       "      <td></td>\n",
       "      <td></td>\n",
       "    </tr>\n",
       "    <tr>\n",
       "      <th>1</th>\n",
       "      <td>https://www.carpages.ca/used-cars/ontario/miss...</td>\n",
       "      <td>2018 Ford F-250</td>\n",
       "      <td>$59,998</td>\n",
       "      <td>White Platinum Tri-Coat Metallic</td>\n",
       "    </tr>\n",
       "    <tr>\n",
       "      <th>2</th>\n",
       "      <td>https://www.carpages.ca/used-cars/ontario/miss...</td>\n",
       "      <td>2019 Ford F-250</td>\n",
       "      <td>$53,998</td>\n",
       "      <td>White Platinum Tri-Coat Metallic</td>\n",
       "    </tr>\n",
       "    <tr>\n",
       "      <th>3</th>\n",
       "      <td>https://www.carpages.ca/used-cars/ontario/miss...</td>\n",
       "      <td>2020 Ford Explorer</td>\n",
       "      <td>$54,998</td>\n",
       "      <td>Magnetic Metallic</td>\n",
       "    </tr>\n",
       "    <tr>\n",
       "      <th>4</th>\n",
       "      <td>https://www.carpages.ca/used-cars/ontario/miss...</td>\n",
       "      <td>2019 Ford F-150</td>\n",
       "      <td>$38,998</td>\n",
       "      <td>Agate Black</td>\n",
       "    </tr>\n",
       "  </tbody>\n",
       "</table>\n",
       "</div>"
      ],
      "text/plain": [
       "                                                Link                Name  \\\n",
       "0                                                                          \n",
       "1  https://www.carpages.ca/used-cars/ontario/miss...     2018 Ford F-250   \n",
       "2  https://www.carpages.ca/used-cars/ontario/miss...     2019 Ford F-250   \n",
       "3  https://www.carpages.ca/used-cars/ontario/miss...  2020 Ford Explorer   \n",
       "4  https://www.carpages.ca/used-cars/ontario/miss...     2019 Ford F-150   \n",
       "\n",
       "     Price                             Color  \n",
       "0                                             \n",
       "1  $59,998  White Platinum Tri-Coat Metallic  \n",
       "2  $53,998  White Platinum Tri-Coat Metallic  \n",
       "3  $54,998                 Magnetic Metallic  \n",
       "4  $38,998                       Agate Black  "
      ]
     },
     "execution_count": 7,
     "metadata": {},
     "output_type": "execute_result"
    }
   ],
   "source": [
    "df.head()"
   ]
  },
  {
   "cell_type": "code",
   "execution_count": 8,
   "id": "c90d38fb-d564-4e72-8599-587a845b189e",
   "metadata": {},
   "outputs": [
    {
     "data": {
      "text/html": [
       "<div>\n",
       "<style scoped>\n",
       "    .dataframe tbody tr th:only-of-type {\n",
       "        vertical-align: middle;\n",
       "    }\n",
       "\n",
       "    .dataframe tbody tr th {\n",
       "        vertical-align: top;\n",
       "    }\n",
       "\n",
       "    .dataframe thead th {\n",
       "        text-align: right;\n",
       "    }\n",
       "</style>\n",
       "<table border=\"1\" class=\"dataframe\">\n",
       "  <thead>\n",
       "    <tr style=\"text-align: right;\">\n",
       "      <th></th>\n",
       "      <th>Link</th>\n",
       "      <th>Name</th>\n",
       "      <th>Price</th>\n",
       "      <th>Color</th>\n",
       "    </tr>\n",
       "  </thead>\n",
       "  <tbody>\n",
       "    <tr>\n",
       "      <th>1</th>\n",
       "      <td>https://www.carpages.ca/used-cars/ontario/miss...</td>\n",
       "      <td>2018 Ford F-250</td>\n",
       "      <td>$59,998</td>\n",
       "      <td>White Platinum Tri-Coat Metallic</td>\n",
       "    </tr>\n",
       "    <tr>\n",
       "      <th>2</th>\n",
       "      <td>https://www.carpages.ca/used-cars/ontario/miss...</td>\n",
       "      <td>2019 Ford F-250</td>\n",
       "      <td>$53,998</td>\n",
       "      <td>White Platinum Tri-Coat Metallic</td>\n",
       "    </tr>\n",
       "    <tr>\n",
       "      <th>3</th>\n",
       "      <td>https://www.carpages.ca/used-cars/ontario/miss...</td>\n",
       "      <td>2020 Ford Explorer</td>\n",
       "      <td>$54,998</td>\n",
       "      <td>Magnetic Metallic</td>\n",
       "    </tr>\n",
       "    <tr>\n",
       "      <th>4</th>\n",
       "      <td>https://www.carpages.ca/used-cars/ontario/miss...</td>\n",
       "      <td>2019 Ford F-150</td>\n",
       "      <td>$38,998</td>\n",
       "      <td>Agate Black</td>\n",
       "    </tr>\n",
       "    <tr>\n",
       "      <th>5</th>\n",
       "      <td>https://www.carpages.ca/used-cars/ontario/miss...</td>\n",
       "      <td>2016 Ford F-150</td>\n",
       "      <td>$34,998</td>\n",
       "      <td>Lithium Grey</td>\n",
       "    </tr>\n",
       "  </tbody>\n",
       "</table>\n",
       "</div>"
      ],
      "text/plain": [
       "                                                Link                Name  \\\n",
       "1  https://www.carpages.ca/used-cars/ontario/miss...     2018 Ford F-250   \n",
       "2  https://www.carpages.ca/used-cars/ontario/miss...     2019 Ford F-250   \n",
       "3  https://www.carpages.ca/used-cars/ontario/miss...  2020 Ford Explorer   \n",
       "4  https://www.carpages.ca/used-cars/ontario/miss...     2019 Ford F-150   \n",
       "5  https://www.carpages.ca/used-cars/ontario/miss...     2016 Ford F-150   \n",
       "\n",
       "     Price                             Color  \n",
       "1  $59,998  White Platinum Tri-Coat Metallic  \n",
       "2  $53,998  White Platinum Tri-Coat Metallic  \n",
       "3  $54,998                 Magnetic Metallic  \n",
       "4  $38,998                       Agate Black  \n",
       "5  $34,998                      Lithium Grey  "
      ]
     },
     "execution_count": 8,
     "metadata": {},
     "output_type": "execute_result"
    }
   ],
   "source": [
    "# Remove 1st row\n",
    "df = df.iloc[1: , :]\n",
    "df.head()"
   ]
  },
  {
   "cell_type": "code",
   "execution_count": 9,
   "id": "413d4bdd-fa02-40df-9df7-92fbff1098df",
   "metadata": {},
   "outputs": [],
   "source": [
    "#exports the data as a csv\n",
    "df.to_csv('CarPages.csv', index=False)"
   ]
  }
 ],
 "metadata": {
  "kernelspec": {
   "display_name": "Python 3 (ipykernel)",
   "language": "python",
   "name": "python3"
  },
  "language_info": {
   "codemirror_mode": {
    "name": "ipython",
    "version": 3
   },
   "file_extension": ".py",
   "mimetype": "text/x-python",
   "name": "python",
   "nbconvert_exporter": "python",
   "pygments_lexer": "ipython3",
   "version": "3.9.12"
  }
 },
 "nbformat": 4,
 "nbformat_minor": 5
}
