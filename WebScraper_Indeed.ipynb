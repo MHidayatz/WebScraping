{
 "cells": [
  {
   "cell_type": "markdown",
   "id": "a1952fec-10e9-4a97-9166-8b03e6c7e82e",
   "metadata": {},
   "source": [
    "# Indeed JobScrape"
   ]
  },
  {
   "cell_type": "markdown",
   "id": "7476c854-641e-4575-ac99-2f3f59576aae",
   "metadata": {},
   "source": [
    "This notebook is created to demonstrate that web scraping can be perform in python using beatifulsoup library and html. \n",
    "In 1 minute, this bot is able to scrape through close to 1000 records of job listings from Indeed.com.\n",
    "\n",
    "⚠️**WARNING* ⚠️ *Run this program at your own risk. Do not run this web scraping program repeatedly** as it can be result in you getting ban by Indeed.com.\n",
    "\n"
   ]
  },
  {
   "cell_type": "code",
   "execution_count": 1,
   "id": "6d4175a9-241b-4af7-9815-a240b6cab869",
   "metadata": {},
   "outputs": [],
   "source": [
    "import csv\n",
    "from datetime import datetime\n",
    "import requests\n",
    "from bs4 import BeautifulSoup\n",
    "\n",
    "def get_url(position, location):\n",
    "    \"\"\"\n",
    "    Generate a url from position and location\n",
    "    \"\"\"\n",
    "    template = 'https://sg.indeed.com/jobs?q={}&l={}'\n",
    "    url = template.format(position, location)\n",
    "    return url\n",
    "    \n",
    "def get_record(card):\n",
    "    \"\"\"\n",
    "    Extract job data from  a single record\n",
    "    \"\"\"\n",
    "    atag = card.h2.a\n",
    "    atag1 = card.h2.a.span\n",
    "    job_title = atag1.get('title')\n",
    "    job_url = 'https://sg.indeed.com'+ atag.get('href')\n",
    "    try:\n",
    "        company = card.find('span','companyName').text.strip()\n",
    "    except AttributeError:\n",
    "        company = ''\n",
    "    job_location = card.find('div','companyLocation').text.strip()\n",
    "    job_summary = card.find('div','job-snippet').text.strip()\n",
    "    post_date = card.find('span','date').text.strip()\n",
    "    today = datetime.today().strftime('%Y-%m-%d')\n",
    "    try:\n",
    "        job_salary = card.find('div',{'class':'metadata salary-snippet-container'}).get_text()\n",
    "    except AttributeError:\n",
    "        job_salary = ''\n",
    "    \n",
    "    #Creates a tuple object\n",
    "    record = (job_title, company, job_location, post_date, today, job_salary, job_summary, job_url)\n",
    "    \n",
    "    return record\n",
    "\n",
    "def main(position, location):\n",
    "    \"\"\"\n",
    "    Run the main program routine\n",
    "    \"\"\"\n",
    "    records = []\n",
    "    url = get_url(position, location)\n",
    "    \n",
    "    while True:\n",
    "        response = requests.get(url)\n",
    "        soup = BeautifulSoup(response.text, 'html.parser')\n",
    "        cards = soup.find_all('div', 'job_seen_beacon')\n",
    "    \n",
    "        for card in cards:\n",
    "            record = get_record(card)\n",
    "            records.append(record)\n",
    "\n",
    "        try:\n",
    "            url = 'https://sg.indeed.com'+ soup.find('a', {'aria-label': \"Next\"}).get('href')\n",
    "        except AttributeError:\n",
    "            break\n",
    "            \n",
    "    # save the job data\n",
    "    with open('results.csv', 'w', newline = '', encoding = 'utf-8') as f: \n",
    "        writer = csv.writer(f)\n",
    "        writer.writerow(['Job Title', 'Company', 'Location', 'Posting Date', 'Extract Date', 'Salary', 'Summary', 'JobUrl'])\n",
    "        writer.writerows(records)"
   ]
  },
  {
   "cell_type": "code",
   "execution_count": 2,
   "id": "db045d29-2cfd-4293-9c60-ebaab64858f9",
   "metadata": {},
   "outputs": [
    {
     "name": "stdin",
     "output_type": "stream",
     "text": [
      "Please Provide the job title data analyst\n"
     ]
    }
   ],
   "source": [
    "JobTitle = input(\"Please Provide the job title\")"
   ]
  },
  {
   "cell_type": "code",
   "execution_count": 3,
   "id": "34e44e1f-6acb-45e6-b60a-933aecb9bbf0",
   "metadata": {},
   "outputs": [
    {
     "name": "stdout",
     "output_type": "stream",
     "text": [
      "Wall time: 51.1 s\n"
     ]
    }
   ],
   "source": [
    "%%time\n",
    "\n",
    "# run the main program\n",
    "main(JobTitle, 'Singapore')"
   ]
  }
 ],
 "metadata": {
  "kernelspec": {
   "display_name": "Python 3",
   "language": "python",
   "name": "python3"
  },
  "language_info": {
   "codemirror_mode": {
    "name": "ipython",
    "version": 3
   },
   "file_extension": ".py",
   "mimetype": "text/x-python",
   "name": "python",
   "nbconvert_exporter": "python",
   "pygments_lexer": "ipython3",
   "version": "3.8.8"
  }
 },
 "nbformat": 4,
 "nbformat_minor": 5
}
