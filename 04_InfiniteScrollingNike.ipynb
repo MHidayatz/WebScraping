{
 "cells": [
  {
   "cell_type": "markdown",
   "id": "2d5a1a2e-6764-4e5b-ab6d-802d34e716f9",
   "metadata": {},
   "source": [
    "# Scraping Data that uses Javascript - Nike.com"
   ]
  },
  {
   "cell_type": "code",
   "execution_count": 1,
   "id": "3ab57634-e1d5-4c5d-bb18-f967d10b329d",
   "metadata": {},
   "outputs": [],
   "source": [
    "import time\n",
    "import pandas as pd\n",
    "\n",
    "from bs4 import BeautifulSoup\n",
    "from selenium import webdriver\n",
    "from selenium.webdriver.chrome.service import Service\n",
    "from selenium.webdriver.common.keys import Keys\n"
   ]
  },
  {
   "cell_type": "code",
   "execution_count": 2,
   "id": "73430bd1-5d38-4b2d-b859-77ab8bed61d9",
   "metadata": {},
   "outputs": [],
   "source": [
    "# Declare Selenium application\n",
    "service = Service('C:/Users/user/OneDrive - 4y0flc/DataScience/Selenium-ChromeDriver/chromedriver.exe')"
   ]
  },
  {
   "cell_type": "code",
   "execution_count": 3,
   "id": "66f2fb5d-8451-4d07-9ea1-a9358c18c32e",
   "metadata": {},
   "outputs": [],
   "source": [
    "# Launch new chrome browser.\n",
    "driver = webdriver.Chrome(service=service)\n",
    "driver.maximize_window()\n",
    "driver.get('https://www.google.com.sg/')\n",
    "\n",
    "# find input element\n",
    "box = driver.find_element('xpath', '/html/body/div[1]/div[3]/form/div[1]/div[1]/div[1]/div/div[2]/input')\n",
    "box.send_keys('nike')\n",
    "box.send_keys(Keys.ENTER)\n",
    "\n",
    "time.sleep(3)\n",
    "\n",
    "# Click first result\n",
    "driver.find_element('xpath','//*[@id=\"rso\"]/div[1]/div/div/div/div/div/div/div/div[1]/a/h3').click()\n",
    "\n",
    "time.sleep(2)\n",
    "\n",
    "# Find sale button\n",
    "driver.find_element('xpath','/html/body/div[3]/div/div[3]/header/div/div[1]/div[2]/nav/div[2]/ul/li[5]/a').click()\n",
    "\n",
    "time.sleep(3)\n",
    "\n",
    "# Get current Height\n",
    "last_height = driver.execute_script('return document.body.scrollHeight')\n",
    "\n",
    "# Scroll through all the pages\n",
    "while True:\n",
    "    driver.execute_script('window.scrollTo(0, document.body.scrollHeight)')\n",
    "    time.sleep(3)\n",
    "    new_height = driver.execute_script('return document.body.scrollHeight')\n",
    "    if new_height == last_height:\n",
    "        break\n",
    "    last_height = new_height\n",
    "#"
   ]
  },
  {
   "cell_type": "code",
   "execution_count": 4,
   "id": "64f7f27c-3639-46b4-92e5-3cefdcdf6aff",
   "metadata": {},
   "outputs": [],
   "source": [
    "#Imports the HTML of the webpage into python  \n",
    "soup = BeautifulSoup(driver.page_source, 'lxml')"
   ]
  },
  {
   "cell_type": "code",
   "execution_count": 5,
   "id": "fda0d46a-d777-4025-b24e-acaecb2e8fd3",
   "metadata": {},
   "outputs": [
    {
     "data": {
      "text/plain": [
       "563"
      ]
     },
     "execution_count": 5,
     "metadata": {},
     "output_type": "execute_result"
    }
   ],
   "source": [
    "#grabs the HTML of each product\n",
    "product_card = soup.find_all('div', class_ = 'product-card__body')\n",
    "len(product_card)"
   ]
  },
  {
   "cell_type": "code",
   "execution_count": null,
   "id": "4bf4a64d-a0ec-4316-9ad5-e4574c9f904f",
   "metadata": {},
   "outputs": [],
   "source": [
    "#Test cell\n",
    "\n",
    "link = soup.find('a', class_ = 'product-card__link-overlay').get('href')\n",
    "full_price = soup.find('div', class_ = 'product-price is--striked-out css-0').text.replace('S$', '')\n",
    "sale_price = soup.find('div', class_ = 'product-price is--current-price css-1ydfahe').text.replace('S$', '')\n",
    "\n",
    "\n",
    "print(link)\n",
    "print(full_price)\n",
    "print(sale_price)\n",
    "\n",
    "Discount = ((float(full_price) - float(sale_price)) / float(full_price)) * 100\n",
    "print(Discount)\n",
    "DiscountPct = \"{:.2%}\".format(((float(full_price) - float(sale_price)) / float(full_price))) \n",
    "print(DiscountPct)\n",
    "print ( \"{:.2%}\".format(((float(full_price) - float(sale_price)) / float(full_price))) )\n"
   ]
  },
  {
   "cell_type": "code",
   "execution_count": 6,
   "id": "8c9bc62f-7247-4f48-a837-ee38407cb0c4",
   "metadata": {},
   "outputs": [
    {
     "data": {
      "text/html": [
       "<div>\n",
       "<style scoped>\n",
       "    .dataframe tbody tr th:only-of-type {\n",
       "        vertical-align: middle;\n",
       "    }\n",
       "\n",
       "    .dataframe tbody tr th {\n",
       "        vertical-align: top;\n",
       "    }\n",
       "\n",
       "    .dataframe thead th {\n",
       "        text-align: right;\n",
       "    }\n",
       "</style>\n",
       "<table border=\"1\" class=\"dataframe\">\n",
       "  <thead>\n",
       "    <tr style=\"text-align: right;\">\n",
       "      <th></th>\n",
       "      <th>Link</th>\n",
       "      <th>Name</th>\n",
       "      <th>Subtitle</th>\n",
       "      <th>Price</th>\n",
       "      <th>Sale Price</th>\n",
       "    </tr>\n",
       "  </thead>\n",
       "  <tbody>\n",
       "    <tr>\n",
       "      <th>0</th>\n",
       "      <td></td>\n",
       "      <td></td>\n",
       "      <td></td>\n",
       "      <td></td>\n",
       "      <td></td>\n",
       "    </tr>\n",
       "  </tbody>\n",
       "</table>\n",
       "</div>"
      ],
      "text/plain": [
       "  Link Name Subtitle Price Sale Price\n",
       "0                                    "
      ]
     },
     "execution_count": 6,
     "metadata": {},
     "output_type": "execute_result"
    }
   ],
   "source": [
    "#Creates a dataframe using the column headers from our table\n",
    "df = pd.DataFrame( {'Link':[''], 'Name':[''], 'Subtitle':[''], 'Price':[''], 'Sale Price':[''] } )\n",
    "df"
   ]
  },
  {
   "cell_type": "code",
   "execution_count": 7,
   "id": "232790b8-4314-4b55-a7a5-77a6de0688af",
   "metadata": {},
   "outputs": [],
   "source": [
    "# Scrape every link, name, subtitle, full price, sale price\n",
    "for product in product_card:\n",
    "    try:\n",
    "        link = product.find('a', class_ = 'product-card__link-overlay').get('href')\n",
    "        name = product.find('div', class_ = 'product-card__title').text\n",
    "        subtitle = product.find('div', class_ = 'product-card__subtitle').text.replace('S$', '')\n",
    "        full_price = product.find('div', class_ = 'product-price is--striked-out css-0').text.replace('S$', '')\n",
    "        sale_price = product.find('div', class_ = 'product-price is--current-price css-1ydfahe').text.replace('S$', '')\n",
    "\n",
    "        df = pd.concat([df, pd.DataFrame.from_records([{ 'Link': link,'Name': name, 'Subtitle': subtitle,'Price': full_price, 'Sale Price': sale_price }])], ignore_index=True)\n",
    "    except:\n",
    "        pass"
   ]
  },
  {
   "cell_type": "code",
   "execution_count": 8,
   "id": "af1d0ce7-2439-4a6f-9d8b-4e5984d7d120",
   "metadata": {},
   "outputs": [
    {
     "data": {
      "text/plain": [
       "564"
      ]
     },
     "execution_count": 8,
     "metadata": {},
     "output_type": "execute_result"
    }
   ],
   "source": [
    "# Check number of result\n",
    "len(df)"
   ]
  },
  {
   "cell_type": "code",
   "execution_count": 9,
   "id": "697bcafc-0a3f-454c-80c9-1e619d9ab641",
   "metadata": {},
   "outputs": [
    {
     "data": {
      "text/html": [
       "<div>\n",
       "<style scoped>\n",
       "    .dataframe tbody tr th:only-of-type {\n",
       "        vertical-align: middle;\n",
       "    }\n",
       "\n",
       "    .dataframe tbody tr th {\n",
       "        vertical-align: top;\n",
       "    }\n",
       "\n",
       "    .dataframe thead th {\n",
       "        text-align: right;\n",
       "    }\n",
       "</style>\n",
       "<table border=\"1\" class=\"dataframe\">\n",
       "  <thead>\n",
       "    <tr style=\"text-align: right;\">\n",
       "      <th></th>\n",
       "      <th>Link</th>\n",
       "      <th>Name</th>\n",
       "      <th>Subtitle</th>\n",
       "      <th>Price</th>\n",
       "      <th>Sale Price</th>\n",
       "    </tr>\n",
       "  </thead>\n",
       "  <tbody>\n",
       "    <tr>\n",
       "      <th>0</th>\n",
       "      <td></td>\n",
       "      <td></td>\n",
       "      <td></td>\n",
       "      <td></td>\n",
       "      <td></td>\n",
       "    </tr>\n",
       "    <tr>\n",
       "      <th>1</th>\n",
       "      <td>https://www.nike.com/sg/t/space-hippie-04-shoe...</td>\n",
       "      <td>Nike Space Hippie 04</td>\n",
       "      <td>Women's Shoes</td>\n",
       "      <td>229</td>\n",
       "      <td>179.90</td>\n",
       "    </tr>\n",
       "    <tr>\n",
       "      <th>2</th>\n",
       "      <td>https://www.nike.com/sg/t/air-force-1-lv8-olde...</td>\n",
       "      <td>Nike Air Force 1 LV8</td>\n",
       "      <td>Older Kids' Shoes</td>\n",
       "      <td>129</td>\n",
       "      <td>99.90</td>\n",
       "    </tr>\n",
       "    <tr>\n",
       "      <th>3</th>\n",
       "      <td>https://www.nike.com/sg/t/air-zoom-tempo-next-...</td>\n",
       "      <td>Nike Air Zoom Tempo NEXT%</td>\n",
       "      <td>Men's Road Running Shoes</td>\n",
       "      <td>279</td>\n",
       "      <td>219.90</td>\n",
       "    </tr>\n",
       "    <tr>\n",
       "      <th>4</th>\n",
       "      <td>https://www.nike.com/sg/t/react-infinity-run-f...</td>\n",
       "      <td>Nike React Infinity Run Flyknit 3</td>\n",
       "      <td>Men's Road Running Shoes</td>\n",
       "      <td>235</td>\n",
       "      <td>189.90</td>\n",
       "    </tr>\n",
       "  </tbody>\n",
       "</table>\n",
       "</div>"
      ],
      "text/plain": [
       "                                                Link  \\\n",
       "0                                                      \n",
       "1  https://www.nike.com/sg/t/space-hippie-04-shoe...   \n",
       "2  https://www.nike.com/sg/t/air-force-1-lv8-olde...   \n",
       "3  https://www.nike.com/sg/t/air-zoom-tempo-next-...   \n",
       "4  https://www.nike.com/sg/t/react-infinity-run-f...   \n",
       "\n",
       "                                Name                  Subtitle Price  \\\n",
       "0                                                                      \n",
       "1               Nike Space Hippie 04             Women's Shoes   229   \n",
       "2               Nike Air Force 1 LV8         Older Kids' Shoes   129   \n",
       "3          Nike Air Zoom Tempo NEXT%  Men's Road Running Shoes   279   \n",
       "4  Nike React Infinity Run Flyknit 3  Men's Road Running Shoes   235   \n",
       "\n",
       "  Sale Price  \n",
       "0             \n",
       "1     179.90  \n",
       "2      99.90  \n",
       "3     219.90  \n",
       "4     189.90  "
      ]
     },
     "execution_count": 9,
     "metadata": {},
     "output_type": "execute_result"
    }
   ],
   "source": [
    "df.head()"
   ]
  },
  {
   "cell_type": "code",
   "execution_count": 10,
   "id": "e96d9478-b643-4cf8-b8f3-eb89797bd57a",
   "metadata": {},
   "outputs": [
    {
     "data": {
      "text/html": [
       "<div>\n",
       "<style scoped>\n",
       "    .dataframe tbody tr th:only-of-type {\n",
       "        vertical-align: middle;\n",
       "    }\n",
       "\n",
       "    .dataframe tbody tr th {\n",
       "        vertical-align: top;\n",
       "    }\n",
       "\n",
       "    .dataframe thead th {\n",
       "        text-align: right;\n",
       "    }\n",
       "</style>\n",
       "<table border=\"1\" class=\"dataframe\">\n",
       "  <thead>\n",
       "    <tr style=\"text-align: right;\">\n",
       "      <th></th>\n",
       "      <th>Link</th>\n",
       "      <th>Name</th>\n",
       "      <th>Subtitle</th>\n",
       "      <th>Price</th>\n",
       "      <th>Sale Price</th>\n",
       "    </tr>\n",
       "  </thead>\n",
       "  <tbody>\n",
       "    <tr>\n",
       "      <th>1</th>\n",
       "      <td>https://www.nike.com/sg/t/space-hippie-04-shoe...</td>\n",
       "      <td>Nike Space Hippie 04</td>\n",
       "      <td>Women's Shoes</td>\n",
       "      <td>229</td>\n",
       "      <td>179.90</td>\n",
       "    </tr>\n",
       "    <tr>\n",
       "      <th>2</th>\n",
       "      <td>https://www.nike.com/sg/t/air-force-1-lv8-olde...</td>\n",
       "      <td>Nike Air Force 1 LV8</td>\n",
       "      <td>Older Kids' Shoes</td>\n",
       "      <td>129</td>\n",
       "      <td>99.90</td>\n",
       "    </tr>\n",
       "    <tr>\n",
       "      <th>3</th>\n",
       "      <td>https://www.nike.com/sg/t/air-zoom-tempo-next-...</td>\n",
       "      <td>Nike Air Zoom Tempo NEXT%</td>\n",
       "      <td>Men's Road Running Shoes</td>\n",
       "      <td>279</td>\n",
       "      <td>219.90</td>\n",
       "    </tr>\n",
       "    <tr>\n",
       "      <th>4</th>\n",
       "      <td>https://www.nike.com/sg/t/react-infinity-run-f...</td>\n",
       "      <td>Nike React Infinity Run Flyknit 3</td>\n",
       "      <td>Men's Road Running Shoes</td>\n",
       "      <td>235</td>\n",
       "      <td>189.90</td>\n",
       "    </tr>\n",
       "    <tr>\n",
       "      <th>5</th>\n",
       "      <td>https://www.nike.com/sg/t/dunk-high-retro-shoe...</td>\n",
       "      <td>Nike Dunk High Retro</td>\n",
       "      <td>Men's Shoe</td>\n",
       "      <td>179</td>\n",
       "      <td>139.90</td>\n",
       "    </tr>\n",
       "  </tbody>\n",
       "</table>\n",
       "</div>"
      ],
      "text/plain": [
       "                                                Link  \\\n",
       "1  https://www.nike.com/sg/t/space-hippie-04-shoe...   \n",
       "2  https://www.nike.com/sg/t/air-force-1-lv8-olde...   \n",
       "3  https://www.nike.com/sg/t/air-zoom-tempo-next-...   \n",
       "4  https://www.nike.com/sg/t/react-infinity-run-f...   \n",
       "5  https://www.nike.com/sg/t/dunk-high-retro-shoe...   \n",
       "\n",
       "                                Name                  Subtitle Price  \\\n",
       "1               Nike Space Hippie 04             Women's Shoes   229   \n",
       "2               Nike Air Force 1 LV8         Older Kids' Shoes   129   \n",
       "3          Nike Air Zoom Tempo NEXT%  Men's Road Running Shoes   279   \n",
       "4  Nike React Infinity Run Flyknit 3  Men's Road Running Shoes   235   \n",
       "5               Nike Dunk High Retro                Men's Shoe   179   \n",
       "\n",
       "  Sale Price  \n",
       "1     179.90  \n",
       "2      99.90  \n",
       "3     219.90  \n",
       "4     189.90  \n",
       "5     139.90  "
      ]
     },
     "execution_count": 10,
     "metadata": {},
     "output_type": "execute_result"
    }
   ],
   "source": [
    "# Remove 1st row\n",
    "df = df.iloc[1: , :]\n",
    "df.head()"
   ]
  },
  {
   "cell_type": "code",
   "execution_count": 11,
   "id": "ca5761d7-6e01-48de-b8bb-a93106a645e4",
   "metadata": {},
   "outputs": [
    {
     "name": "stdout",
     "output_type": "stream",
     "text": [
      "<class 'pandas.core.frame.DataFrame'>\n",
      "RangeIndex: 563 entries, 1 to 563\n",
      "Data columns (total 5 columns):\n",
      " #   Column      Non-Null Count  Dtype \n",
      "---  ------      --------------  ----- \n",
      " 0   Link        563 non-null    object\n",
      " 1   Name        563 non-null    object\n",
      " 2   Subtitle    563 non-null    object\n",
      " 3   Price       563 non-null    object\n",
      " 4   Sale Price  563 non-null    object\n",
      "dtypes: object(5)\n",
      "memory usage: 22.1+ KB\n"
     ]
    }
   ],
   "source": [
    "df.info()"
   ]
  },
  {
   "cell_type": "code",
   "execution_count": 12,
   "id": "89e649d1-6e2e-4131-b2a2-70fbbaa49249",
   "metadata": {},
   "outputs": [],
   "source": [
    "# Save to CSV\n",
    "df.to_csv('Nike.csv', index=False)"
   ]
  },
  {
   "cell_type": "code",
   "execution_count": 13,
   "id": "07475b7f-df05-4d79-80c0-ced8127b8ee8",
   "metadata": {},
   "outputs": [
    {
     "data": {
      "text/html": [
       "<div>\n",
       "<style scoped>\n",
       "    .dataframe tbody tr th:only-of-type {\n",
       "        vertical-align: middle;\n",
       "    }\n",
       "\n",
       "    .dataframe tbody tr th {\n",
       "        vertical-align: top;\n",
       "    }\n",
       "\n",
       "    .dataframe thead th {\n",
       "        text-align: right;\n",
       "    }\n",
       "</style>\n",
       "<table border=\"1\" class=\"dataframe\">\n",
       "  <thead>\n",
       "    <tr style=\"text-align: right;\">\n",
       "      <th></th>\n",
       "      <th>Link</th>\n",
       "      <th>Name</th>\n",
       "      <th>Subtitle</th>\n",
       "      <th>Price</th>\n",
       "      <th>Sale Price</th>\n",
       "    </tr>\n",
       "  </thead>\n",
       "  <tbody>\n",
       "    <tr>\n",
       "      <th>0</th>\n",
       "      <td>https://www.nike.com/sg/t/space-hippie-04-shoe...</td>\n",
       "      <td>Nike Space Hippie 04</td>\n",
       "      <td>Women's Shoes</td>\n",
       "      <td>229</td>\n",
       "      <td>179.9</td>\n",
       "    </tr>\n",
       "    <tr>\n",
       "      <th>1</th>\n",
       "      <td>https://www.nike.com/sg/t/air-force-1-lv8-olde...</td>\n",
       "      <td>Nike Air Force 1 LV8</td>\n",
       "      <td>Older Kids' Shoes</td>\n",
       "      <td>129</td>\n",
       "      <td>99.9</td>\n",
       "    </tr>\n",
       "    <tr>\n",
       "      <th>2</th>\n",
       "      <td>https://www.nike.com/sg/t/air-zoom-tempo-next-...</td>\n",
       "      <td>Nike Air Zoom Tempo NEXT%</td>\n",
       "      <td>Men's Road Running Shoes</td>\n",
       "      <td>279</td>\n",
       "      <td>219.9</td>\n",
       "    </tr>\n",
       "    <tr>\n",
       "      <th>3</th>\n",
       "      <td>https://www.nike.com/sg/t/react-infinity-run-f...</td>\n",
       "      <td>Nike React Infinity Run Flyknit 3</td>\n",
       "      <td>Men's Road Running Shoes</td>\n",
       "      <td>235</td>\n",
       "      <td>189.9</td>\n",
       "    </tr>\n",
       "    <tr>\n",
       "      <th>4</th>\n",
       "      <td>https://www.nike.com/sg/t/dunk-high-retro-shoe...</td>\n",
       "      <td>Nike Dunk High Retro</td>\n",
       "      <td>Men's Shoe</td>\n",
       "      <td>179</td>\n",
       "      <td>139.9</td>\n",
       "    </tr>\n",
       "  </tbody>\n",
       "</table>\n",
       "</div>"
      ],
      "text/plain": [
       "                                                Link  \\\n",
       "0  https://www.nike.com/sg/t/space-hippie-04-shoe...   \n",
       "1  https://www.nike.com/sg/t/air-force-1-lv8-olde...   \n",
       "2  https://www.nike.com/sg/t/air-zoom-tempo-next-...   \n",
       "3  https://www.nike.com/sg/t/react-infinity-run-f...   \n",
       "4  https://www.nike.com/sg/t/dunk-high-retro-shoe...   \n",
       "\n",
       "                                Name                  Subtitle  Price  \\\n",
       "0               Nike Space Hippie 04             Women's Shoes    229   \n",
       "1               Nike Air Force 1 LV8         Older Kids' Shoes    129   \n",
       "2          Nike Air Zoom Tempo NEXT%  Men's Road Running Shoes    279   \n",
       "3  Nike React Infinity Run Flyknit 3  Men's Road Running Shoes    235   \n",
       "4               Nike Dunk High Retro                Men's Shoe    179   \n",
       "\n",
       "   Sale Price  \n",
       "0       179.9  \n",
       "1        99.9  \n",
       "2       219.9  \n",
       "3       189.9  \n",
       "4       139.9  "
      ]
     },
     "execution_count": 13,
     "metadata": {},
     "output_type": "execute_result"
    }
   ],
   "source": [
    "# Read the CSV file\n",
    "df = pd.read_csv('Nike.csv')\n",
    "df.head()"
   ]
  },
  {
   "cell_type": "code",
   "execution_count": 14,
   "id": "8a62e4d8-8cd5-4c2b-8eb6-b6bfd939223f",
   "metadata": {},
   "outputs": [
    {
     "name": "stdout",
     "output_type": "stream",
     "text": [
      "<class 'pandas.core.frame.DataFrame'>\n",
      "RangeIndex: 563 entries, 0 to 562\n",
      "Data columns (total 5 columns):\n",
      " #   Column      Non-Null Count  Dtype  \n",
      "---  ------      --------------  -----  \n",
      " 0   Link        563 non-null    object \n",
      " 1   Name        563 non-null    object \n",
      " 2   Subtitle    563 non-null    object \n",
      " 3   Price       563 non-null    int64  \n",
      " 4   Sale Price  563 non-null    float64\n",
      "dtypes: float64(1), int64(1), object(3)\n",
      "memory usage: 22.1+ KB\n"
     ]
    }
   ],
   "source": [
    "df.info()"
   ]
  },
  {
   "cell_type": "code",
   "execution_count": 15,
   "id": "7794892d-0904-4de1-a9e4-def2548d42c4",
   "metadata": {},
   "outputs": [
    {
     "data": {
      "text/html": [
       "<div>\n",
       "<style scoped>\n",
       "    .dataframe tbody tr th:only-of-type {\n",
       "        vertical-align: middle;\n",
       "    }\n",
       "\n",
       "    .dataframe tbody tr th {\n",
       "        vertical-align: top;\n",
       "    }\n",
       "\n",
       "    .dataframe thead th {\n",
       "        text-align: right;\n",
       "    }\n",
       "</style>\n",
       "<table border=\"1\" class=\"dataframe\">\n",
       "  <thead>\n",
       "    <tr style=\"text-align: right;\">\n",
       "      <th></th>\n",
       "      <th>Link</th>\n",
       "      <th>Name</th>\n",
       "      <th>Subtitle</th>\n",
       "      <th>Price</th>\n",
       "      <th>Sale Price</th>\n",
       "      <th>PercentDiff</th>\n",
       "    </tr>\n",
       "  </thead>\n",
       "  <tbody>\n",
       "    <tr>\n",
       "      <th>0</th>\n",
       "      <td>https://www.nike.com/sg/t/space-hippie-04-shoe...</td>\n",
       "      <td>Nike Space Hippie 04</td>\n",
       "      <td>Women's Shoes</td>\n",
       "      <td>229</td>\n",
       "      <td>179.9</td>\n",
       "      <td>21.441048</td>\n",
       "    </tr>\n",
       "    <tr>\n",
       "      <th>1</th>\n",
       "      <td>https://www.nike.com/sg/t/air-force-1-lv8-olde...</td>\n",
       "      <td>Nike Air Force 1 LV8</td>\n",
       "      <td>Older Kids' Shoes</td>\n",
       "      <td>129</td>\n",
       "      <td>99.9</td>\n",
       "      <td>22.558140</td>\n",
       "    </tr>\n",
       "    <tr>\n",
       "      <th>2</th>\n",
       "      <td>https://www.nike.com/sg/t/air-zoom-tempo-next-...</td>\n",
       "      <td>Nike Air Zoom Tempo NEXT%</td>\n",
       "      <td>Men's Road Running Shoes</td>\n",
       "      <td>279</td>\n",
       "      <td>219.9</td>\n",
       "      <td>21.182796</td>\n",
       "    </tr>\n",
       "    <tr>\n",
       "      <th>3</th>\n",
       "      <td>https://www.nike.com/sg/t/react-infinity-run-f...</td>\n",
       "      <td>Nike React Infinity Run Flyknit 3</td>\n",
       "      <td>Men's Road Running Shoes</td>\n",
       "      <td>235</td>\n",
       "      <td>189.9</td>\n",
       "      <td>19.191489</td>\n",
       "    </tr>\n",
       "    <tr>\n",
       "      <th>4</th>\n",
       "      <td>https://www.nike.com/sg/t/dunk-high-retro-shoe...</td>\n",
       "      <td>Nike Dunk High Retro</td>\n",
       "      <td>Men's Shoe</td>\n",
       "      <td>179</td>\n",
       "      <td>139.9</td>\n",
       "      <td>21.843575</td>\n",
       "    </tr>\n",
       "  </tbody>\n",
       "</table>\n",
       "</div>"
      ],
      "text/plain": [
       "                                                Link  \\\n",
       "0  https://www.nike.com/sg/t/space-hippie-04-shoe...   \n",
       "1  https://www.nike.com/sg/t/air-force-1-lv8-olde...   \n",
       "2  https://www.nike.com/sg/t/air-zoom-tempo-next-...   \n",
       "3  https://www.nike.com/sg/t/react-infinity-run-f...   \n",
       "4  https://www.nike.com/sg/t/dunk-high-retro-shoe...   \n",
       "\n",
       "                                Name                  Subtitle  Price  \\\n",
       "0               Nike Space Hippie 04             Women's Shoes    229   \n",
       "1               Nike Air Force 1 LV8         Older Kids' Shoes    129   \n",
       "2          Nike Air Zoom Tempo NEXT%  Men's Road Running Shoes    279   \n",
       "3  Nike React Infinity Run Flyknit 3  Men's Road Running Shoes    235   \n",
       "4               Nike Dunk High Retro                Men's Shoe    179   \n",
       "\n",
       "   Sale Price  PercentDiff  \n",
       "0       179.9    21.441048  \n",
       "1        99.9    22.558140  \n",
       "2       219.9    21.182796  \n",
       "3       189.9    19.191489  \n",
       "4       139.9    21.843575  "
      ]
     },
     "execution_count": 15,
     "metadata": {},
     "output_type": "execute_result"
    }
   ],
   "source": [
    "# add a new column\n",
    "df['PercentDiff'] = (df['Price'] - df['Sale Price'] ) / df['Price'] * 100\n",
    "df.head()"
   ]
  },
  {
   "cell_type": "code",
   "execution_count": 18,
   "id": "9feb5024-69ba-49ee-ab97-71a9d21f98cd",
   "metadata": {},
   "outputs": [],
   "source": [
    "# Save to CSV\n",
    "df.to_csv('Nike.csv', index=False)"
   ]
  },
  {
   "cell_type": "code",
   "execution_count": null,
   "id": "4fe11a1b-7513-415c-9cab-3dae829d7f2e",
   "metadata": {},
   "outputs": [],
   "source": []
  }
 ],
 "metadata": {
  "kernelspec": {
   "display_name": "Python 3 (ipykernel)",
   "language": "python",
   "name": "python3"
  },
  "language_info": {
   "codemirror_mode": {
    "name": "ipython",
    "version": 3
   },
   "file_extension": ".py",
   "mimetype": "text/x-python",
   "name": "python",
   "nbconvert_exporter": "python",
   "pygments_lexer": "ipython3",
   "version": "3.9.12"
  }
 },
 "nbformat": 4,
 "nbformat_minor": 5
}
