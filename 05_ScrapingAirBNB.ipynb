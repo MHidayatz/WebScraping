{
 "cells": [
  {
   "cell_type": "markdown",
   "id": "28640739-a1d1-4094-9d2f-7a46660c9c25",
   "metadata": {},
   "source": [
    "## Scraping multiple pages in AirBNB"
   ]
  },
  {
   "cell_type": "code",
   "execution_count": 1,
   "id": "afcfbb12-451a-4d4d-9887-8e4831a61bd9",
   "metadata": {},
   "outputs": [],
   "source": [
    "import time\n",
    "import requests\n",
    "import pandas as pd\n",
    "\n",
    "from bs4 import BeautifulSoup"
   ]
  },
  {
   "cell_type": "code",
   "execution_count": 2,
   "id": "6c082967-46c2-4e6f-bd5a-e31703ea3e57",
   "metadata": {},
   "outputs": [],
   "source": [
    "url = \"https://www.airbnb.com.sg/s/Malaysia/homes?tab_id=home_tab&refinement_paths%5B%5D=%2Fhomes&flexible_trip_lengths%5B%5D=one_week&price_filter_input_type=0&place_id=ChIJrzBnX5fTNDAR2BwhKJOWRQc&date_picker_type=calendar&checkin=2022-10-14&checkout=2022-10-16&adults=2&source=structured_search_input_header&search_type=filter_change\""
   ]
  },
  {
   "cell_type": "code",
   "execution_count": 3,
   "id": "07bf5713-02d3-42e9-a6d8-9bb5553a8461",
   "metadata": {},
   "outputs": [
    {
     "data": {
      "text/plain": [
       "<Response [200]>"
      ]
     },
     "execution_count": 3,
     "metadata": {},
     "output_type": "execute_result"
    }
   ],
   "source": [
    "page = requests.get(url)\n",
    "page"
   ]
  },
  {
   "cell_type": "code",
   "execution_count": 4,
   "id": "ce1f0172-ab1a-4c14-891d-b3f8c33bf000",
   "metadata": {},
   "outputs": [],
   "source": [
    "soup = BeautifulSoup(page.text, 'lxml')"
   ]
  },
  {
   "cell_type": "code",
   "execution_count": 5,
   "id": "a23405e9-327c-4ea3-8640-5381bdc9a8c7",
   "metadata": {},
   "outputs": [
    {
     "data": {
      "text/html": [
       "<div>\n",
       "<style scoped>\n",
       "    .dataframe tbody tr th:only-of-type {\n",
       "        vertical-align: middle;\n",
       "    }\n",
       "\n",
       "    .dataframe tbody tr th {\n",
       "        vertical-align: top;\n",
       "    }\n",
       "\n",
       "    .dataframe thead th {\n",
       "        text-align: right;\n",
       "    }\n",
       "</style>\n",
       "<table border=\"1\" class=\"dataframe\">\n",
       "  <thead>\n",
       "    <tr style=\"text-align: right;\">\n",
       "      <th></th>\n",
       "      <th>Links</th>\n",
       "      <th>Title</th>\n",
       "      <th>Details</th>\n",
       "      <th>Price</th>\n",
       "      <th>Rating</th>\n",
       "      <th>Bed</th>\n",
       "    </tr>\n",
       "  </thead>\n",
       "  <tbody>\n",
       "    <tr>\n",
       "      <th>0</th>\n",
       "      <td></td>\n",
       "      <td></td>\n",
       "      <td></td>\n",
       "      <td></td>\n",
       "      <td></td>\n",
       "      <td></td>\n",
       "    </tr>\n",
       "  </tbody>\n",
       "</table>\n",
       "</div>"
      ],
      "text/plain": [
       "  Links Title Details Price Rating Bed\n",
       "0                                     "
      ]
     },
     "execution_count": 5,
     "metadata": {},
     "output_type": "execute_result"
    }
   ],
   "source": [
    "#Creates a dataframe using the column headers from our table\n",
    "df = pd.DataFrame({'Links': [''],'Title': [''], 'Details': [''],'Price': [''], 'Rating': [''], 'Bed': ['']})\n",
    "df"
   ]
  },
  {
   "cell_type": "code",
   "execution_count": null,
   "id": "6298a8c6-d2d1-4edb-8f06-f49026a6f04b",
   "metadata": {},
   "outputs": [],
   "source": [
    "# Modified cell\n",
    "\n",
    "%%time\n",
    "\n",
    "while True:\n",
    "    postings = soup.find_all('div', class_ = 'c4mnd7m dir dir-ltr')\n",
    "    for post in postings:\n",
    "        try:\n",
    "            link = post.find('a', class_ = 'ln2bl2p dir dir-ltr').get('href')\n",
    "            link_full = 'https://www.airbnb.com.sg' + link\n",
    "            title =  post.find('div', class_ = 't1jojoys dir dir-ltr').text\n",
    "            price = post.find('span', class_ = '_tyxjp1').text.strip().replace(\"\\xa0SGD\", \"\")\n",
    "            rating = post.find('span', class_ = 'ru0q88m dir dir-ltr').text\n",
    "            details = post.find('span', class_ = 'tjbvqj3 dir dir-ltr').text\n",
    "            bed = post.find_all('div', class_ = 'f15liw5s s1cjsi4j dir dir-ltr')[1].text\n",
    "            df = pd.concat([df, pd.DataFrame.from_records([{'Links': link_full,'Title': title, 'Details': details, 'Price': price, 'Rating': rating, 'Bed': bed }])], ignore_index=True)\n",
    "        except:\n",
    "            pass\n",
    "    \n",
    "\n",
    "    try:\n",
    "        next_page = soup.find('a', {'aria-label':'Next'}).get('href')\n",
    "    except AttributeError:\n",
    "        break\n",
    "        \n",
    "    next_page_full = 'https://www.airbnb.com.sg/' + next_page\n",
    "    next_page_full\n",
    "    \n",
    "    url = next_page_full\n",
    "    page = requests.get(url)\n",
    "    soup = BeautifulSoup(page.text, 'lxml')\n",
    "    time.sleep(120)\n"
   ]
  },
  {
   "cell_type": "code",
   "execution_count": 10,
   "id": "77188e2c-4b47-4ee9-a33a-f12134fd4ee6",
   "metadata": {},
   "outputs": [
    {
     "name": "stdout",
     "output_type": "stream",
     "text": [
      "<class 'pandas.core.frame.DataFrame'>\n",
      "RangeIndex: 100 entries, 1 to 100\n",
      "Data columns (total 6 columns):\n",
      " #   Column   Non-Null Count  Dtype \n",
      "---  ------   --------------  ----- \n",
      " 0   Links    100 non-null    object\n",
      " 1   Title    100 non-null    object\n",
      " 2   Details  100 non-null    object\n",
      " 3   Price    100 non-null    object\n",
      " 4   Rating   100 non-null    object\n",
      " 5   Bed      100 non-null    object\n",
      "dtypes: object(6)\n",
      "memory usage: 4.8+ KB\n"
     ]
    }
   ],
   "source": [
    "df.info()"
   ]
  },
  {
   "cell_type": "code",
   "execution_count": 7,
   "id": "52cbaaa6-6d77-4426-93c7-73f04df89555",
   "metadata": {},
   "outputs": [
    {
     "data": {
      "text/html": [
       "<div>\n",
       "<style scoped>\n",
       "    .dataframe tbody tr th:only-of-type {\n",
       "        vertical-align: middle;\n",
       "    }\n",
       "\n",
       "    .dataframe tbody tr th {\n",
       "        vertical-align: top;\n",
       "    }\n",
       "\n",
       "    .dataframe thead th {\n",
       "        text-align: right;\n",
       "    }\n",
       "</style>\n",
       "<table border=\"1\" class=\"dataframe\">\n",
       "  <thead>\n",
       "    <tr style=\"text-align: right;\">\n",
       "      <th></th>\n",
       "      <th>Links</th>\n",
       "      <th>Title</th>\n",
       "      <th>Details</th>\n",
       "      <th>Price</th>\n",
       "      <th>Rating</th>\n",
       "      <th>Bed</th>\n",
       "    </tr>\n",
       "  </thead>\n",
       "  <tbody>\n",
       "    <tr>\n",
       "      <th>0</th>\n",
       "      <td></td>\n",
       "      <td></td>\n",
       "      <td></td>\n",
       "      <td></td>\n",
       "      <td></td>\n",
       "      <td></td>\n",
       "    </tr>\n",
       "    <tr>\n",
       "      <th>1</th>\n",
       "      <td>https://www.airbnb.com.sg/rooms/53818538?adult...</td>\n",
       "      <td>Holiday home in Melaka</td>\n",
       "      <td>✦ATTIC✦Sky Garden Private Pool Luxury Family S...</td>\n",
       "      <td>$330</td>\n",
       "      <td>4.96 (47)</td>\n",
       "      <td>3 beds</td>\n",
       "    </tr>\n",
       "    <tr>\n",
       "      <th>2</th>\n",
       "      <td>https://www.airbnb.com.sg/rooms/5302083?adults...</td>\n",
       "      <td>Villa in Langkawi</td>\n",
       "      <td>Alamanda Hilltop Villa - Stunning Sunset View</td>\n",
       "      <td>$154</td>\n",
       "      <td>4.77 (239)</td>\n",
       "      <td>1 queen bed</td>\n",
       "    </tr>\n",
       "    <tr>\n",
       "      <th>3</th>\n",
       "      <td>https://www.airbnb.com.sg/rooms/39845779?adult...</td>\n",
       "      <td>Apartment in Melaka</td>\n",
       "      <td>✦ATTIC✦ Peak of MLK Seaview Modern Studio [TV ...</td>\n",
       "      <td>$293</td>\n",
       "      <td>4.84 (136)</td>\n",
       "      <td>1 king bed</td>\n",
       "    </tr>\n",
       "    <tr>\n",
       "      <th>4</th>\n",
       "      <td>https://www.airbnb.com.sg/rooms/39844734?adult...</td>\n",
       "      <td>Apartment in Melaka</td>\n",
       "      <td>✦ATTIC✦Peak of MLK Seaview [Massage Chair&amp;TVBOX]</td>\n",
       "      <td>$293</td>\n",
       "      <td>4.87 (137)</td>\n",
       "      <td>1 king bed</td>\n",
       "    </tr>\n",
       "  </tbody>\n",
       "</table>\n",
       "</div>"
      ],
      "text/plain": [
       "                                               Links                   Title  \\\n",
       "0                                                                              \n",
       "1  https://www.airbnb.com.sg/rooms/53818538?adult...  Holiday home in Melaka   \n",
       "2  https://www.airbnb.com.sg/rooms/5302083?adults...       Villa in Langkawi   \n",
       "3  https://www.airbnb.com.sg/rooms/39845779?adult...     Apartment in Melaka   \n",
       "4  https://www.airbnb.com.sg/rooms/39844734?adult...     Apartment in Melaka   \n",
       "\n",
       "                                             Details Price      Rating  \\\n",
       "0                                                                        \n",
       "1  ✦ATTIC✦Sky Garden Private Pool Luxury Family S...  $330   4.96 (47)   \n",
       "2      Alamanda Hilltop Villa - Stunning Sunset View  $154  4.77 (239)   \n",
       "3  ✦ATTIC✦ Peak of MLK Seaview Modern Studio [TV ...  $293  4.84 (136)   \n",
       "4   ✦ATTIC✦Peak of MLK Seaview [Massage Chair&TVBOX]  $293  4.87 (137)   \n",
       "\n",
       "           Bed  \n",
       "0               \n",
       "1       3 beds  \n",
       "2  1 queen bed  \n",
       "3   1 king bed  \n",
       "4   1 king bed  "
      ]
     },
     "execution_count": 7,
     "metadata": {},
     "output_type": "execute_result"
    }
   ],
   "source": [
    "df.head()"
   ]
  },
  {
   "cell_type": "code",
   "execution_count": 8,
   "id": "7f3fbf44-4636-4be6-a250-ebee3eb5bed0",
   "metadata": {},
   "outputs": [
    {
     "data": {
      "text/html": [
       "<div>\n",
       "<style scoped>\n",
       "    .dataframe tbody tr th:only-of-type {\n",
       "        vertical-align: middle;\n",
       "    }\n",
       "\n",
       "    .dataframe tbody tr th {\n",
       "        vertical-align: top;\n",
       "    }\n",
       "\n",
       "    .dataframe thead th {\n",
       "        text-align: right;\n",
       "    }\n",
       "</style>\n",
       "<table border=\"1\" class=\"dataframe\">\n",
       "  <thead>\n",
       "    <tr style=\"text-align: right;\">\n",
       "      <th></th>\n",
       "      <th>Links</th>\n",
       "      <th>Title</th>\n",
       "      <th>Details</th>\n",
       "      <th>Price</th>\n",
       "      <th>Rating</th>\n",
       "      <th>Bed</th>\n",
       "    </tr>\n",
       "  </thead>\n",
       "  <tbody>\n",
       "    <tr>\n",
       "      <th>1</th>\n",
       "      <td>https://www.airbnb.com.sg/rooms/53818538?adult...</td>\n",
       "      <td>Holiday home in Melaka</td>\n",
       "      <td>✦ATTIC✦Sky Garden Private Pool Luxury Family S...</td>\n",
       "      <td>$330</td>\n",
       "      <td>4.96 (47)</td>\n",
       "      <td>3 beds</td>\n",
       "    </tr>\n",
       "    <tr>\n",
       "      <th>2</th>\n",
       "      <td>https://www.airbnb.com.sg/rooms/5302083?adults...</td>\n",
       "      <td>Villa in Langkawi</td>\n",
       "      <td>Alamanda Hilltop Villa - Stunning Sunset View</td>\n",
       "      <td>$154</td>\n",
       "      <td>4.77 (239)</td>\n",
       "      <td>1 queen bed</td>\n",
       "    </tr>\n",
       "    <tr>\n",
       "      <th>3</th>\n",
       "      <td>https://www.airbnb.com.sg/rooms/39845779?adult...</td>\n",
       "      <td>Apartment in Melaka</td>\n",
       "      <td>✦ATTIC✦ Peak of MLK Seaview Modern Studio [TV ...</td>\n",
       "      <td>$293</td>\n",
       "      <td>4.84 (136)</td>\n",
       "      <td>1 king bed</td>\n",
       "    </tr>\n",
       "    <tr>\n",
       "      <th>4</th>\n",
       "      <td>https://www.airbnb.com.sg/rooms/39844734?adult...</td>\n",
       "      <td>Apartment in Melaka</td>\n",
       "      <td>✦ATTIC✦Peak of MLK Seaview [Massage Chair&amp;TVBOX]</td>\n",
       "      <td>$293</td>\n",
       "      <td>4.87 (137)</td>\n",
       "      <td>1 king bed</td>\n",
       "    </tr>\n",
       "    <tr>\n",
       "      <th>5</th>\n",
       "      <td>https://www.airbnb.com.sg/rooms/34880764?adult...</td>\n",
       "      <td>Villa in Langkawi</td>\n",
       "      <td>Villa 4 - Private Pool WOW Holiday Homes</td>\n",
       "      <td>$530</td>\n",
       "      <td>4.82 (67)</td>\n",
       "      <td>4 beds</td>\n",
       "    </tr>\n",
       "  </tbody>\n",
       "</table>\n",
       "</div>"
      ],
      "text/plain": [
       "                                               Links                   Title  \\\n",
       "1  https://www.airbnb.com.sg/rooms/53818538?adult...  Holiday home in Melaka   \n",
       "2  https://www.airbnb.com.sg/rooms/5302083?adults...       Villa in Langkawi   \n",
       "3  https://www.airbnb.com.sg/rooms/39845779?adult...     Apartment in Melaka   \n",
       "4  https://www.airbnb.com.sg/rooms/39844734?adult...     Apartment in Melaka   \n",
       "5  https://www.airbnb.com.sg/rooms/34880764?adult...       Villa in Langkawi   \n",
       "\n",
       "                                             Details Price      Rating  \\\n",
       "1  ✦ATTIC✦Sky Garden Private Pool Luxury Family S...  $330   4.96 (47)   \n",
       "2      Alamanda Hilltop Villa - Stunning Sunset View  $154  4.77 (239)   \n",
       "3  ✦ATTIC✦ Peak of MLK Seaview Modern Studio [TV ...  $293  4.84 (136)   \n",
       "4   ✦ATTIC✦Peak of MLK Seaview [Massage Chair&TVBOX]  $293  4.87 (137)   \n",
       "5           Villa 4 - Private Pool WOW Holiday Homes  $530   4.82 (67)   \n",
       "\n",
       "           Bed  \n",
       "1       3 beds  \n",
       "2  1 queen bed  \n",
       "3   1 king bed  \n",
       "4   1 king bed  \n",
       "5       4 beds  "
      ]
     },
     "execution_count": 8,
     "metadata": {},
     "output_type": "execute_result"
    }
   ],
   "source": [
    "# Remove 1st row\n",
    "df = df.iloc[1: , :]\n",
    "df.head()"
   ]
  },
  {
   "cell_type": "code",
   "execution_count": 9,
   "id": "5af28734-833b-48ee-8946-2925b41c7878",
   "metadata": {},
   "outputs": [],
   "source": [
    "#exports the data as a csv\n",
    "df.to_csv('AiBnb_data.csv', index=False)\n"
   ]
  }
 ],
 "metadata": {
  "kernelspec": {
   "display_name": "Python 3 (ipykernel)",
   "language": "python",
   "name": "python3"
  },
  "language_info": {
   "codemirror_mode": {
    "name": "ipython",
    "version": 3
   },
   "file_extension": ".py",
   "mimetype": "text/x-python",
   "name": "python",
   "nbconvert_exporter": "python",
   "pygments_lexer": "ipython3",
   "version": "3.9.12"
  }
 },
 "nbformat": 4,
 "nbformat_minor": 5
}
